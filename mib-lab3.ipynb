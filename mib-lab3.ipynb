{
  "nbformat": 4,
  "nbformat_minor": 0,
  "metadata": {
    "colab": {
      "provenance": [],
      "toc_visible": true,
      "include_colab_link": true
    },
    "kernelspec": {
      "name": "python3",
      "display_name": "Python 3"
    }
  },
  "cells": [
    {
      "cell_type": "markdown",
      "metadata": {
        "id": "view-in-github",
        "colab_type": "text"
      },
      "source": [
        "<a href=\"https://colab.research.google.com/github/aianau/ProiectIP/blob/Acum-sper-sa-nu-muncesc-aiurea/mib-lab3.ipynb\" target=\"_parent\"><img src=\"https://colab.research.google.com/assets/colab-badge.svg\" alt=\"Open In Colab\"/></a>"
      ]
    },
    {
      "cell_type": "markdown",
      "metadata": {
        "id": "4R4jpwTmkri1"
      },
      "source": [
        "# Laborator 3.\n",
        "\n",
        "În laboratorul trecut am observat cum rezultatul metodelor hill climbing depinde foarte mult de punctul de pornire și de parametrizare, existând riscul ridicat ca metoda să rămână blocată într-un optim local. \n",
        "\n",
        "În consecință, au fost propuse numeroase tehnici care pot îmbunătăți un algoritm de căutare prin traiectorie, oferind un echilibru mai bun între [explorare și exploatare](https://dl.acm.org/doi/10.1145/2480741.2480752) și o independență sporită în ceea ce privește punctul de start. Aceste tehnici sunt concepute pentru a depăși limitările metodei hill climbing tradiționale și pentru a asigura că căutarea are loc într-un spațiu mai larg de soluții posibile.\n",
        " \n",
        "\n",
        "## Căutarea Tabu ([Tabu Search](https://en.wikipedia.org/wiki/Tabu_search) - TS)\n",
        "\n",
        "Căutare bazată pe liste de configurații interzise a fost [propusă de Fred Glover în 1986](https://www.sciencedirect.com/science/article/abs/pii/0305054886900481?via%3Dihub) ca o modalitate eficientă de a depăși minimele locale în procesul de căutare. \n",
        "\n",
        "Prin construirea și actualizarea unei liste de soluții interzise (tabu) la care nu se poate reveni, pe baza punctelor deja vizitate, se asigură că soluțiile care au fost deja explorate și care au condus la minime locale nu vor fi reexaminate în iterațiile următoare. Aceasta împiedică algoritmul să rămână blocat în aceleași regiuni și îl determină să exploreze și să descopere regiuni noi și neexplorate. Dimensiunea listei tabu este de obicei limitată și poate fi implementată sub forma unei liste circulare pentru a gestiona eficient resursele de memorie.\n",
        "\n",
        "Pseudocodul metodei ([sursa](https://en.wikipedia.org/wiki/Tabu_search#Pseudocode)):\n",
        "\n",
        "```cpp\n",
        "sBest = s0;\n",
        "bestCandidate = s0;\n",
        "tabuList = [];\n",
        "tabuList.push(s0);\n",
        "while (!stoppingCondition()){\n",
        "    // explorare locală a vecinătății soluției actuale\n",
        "    // poate fi exhaustivă sau bazată pe o eșantionare aleatoare\n",
        "    sNeighborhood = getNeighbors(bestCandidate);\n",
        "    // prima configurație este acceptat necondiționat (chiar dacă este de mai slabă calitate) \n",
        "    // acest aspect combinat cu lista tabu permite \"evadarea\" din bazinul de atracție a unui opttim local \n",
        "    bestCandidate = sNeighborhood[0];\n",
        "    // pentru fiecare configurație din vecinătatea bestCandidate precedent\n",
        "    for (sCandidate in sNeighborhood)\n",
        "        // dacă configurația nu se regăsește în lista tabu și este o îmbunătățire\n",
        "        if ( (!tabuList.contains(sCandidate)) && (fitness(sCandidate) > fitness(bestCandidate)) )\n",
        "            bestCandidate = sCandidate;\n",
        "\n",
        "    if (fitness(bestCandidate) > fitness(sBest))\n",
        "        sBest = bestCandidate;\n",
        "    \n",
        "    // plasarea soluției în lista tabu\n",
        "    tabuList.push(bestCandidate);\n",
        "\n",
        "    // dacă memoria devine plină, pt. a face loc ștergem cea mai veche configurație\n",
        "    if (tabuList.size > maxTabuSize)\n",
        "        tabuList.removeFirst();\n",
        "}\n",
        "return sBest;\n",
        "```\n",
        "\n",
        "### Exemplu optimizare\n",
        "Considerăm instanțe de probleme de optimizare binară cuadratică neconstrânse ([QUBO - Quadratic unconstrained binary optimization](https://en.wikipedia.org/wiki/Quadratic_unconstrained_binary_optimization)), rezolvându-le cu ajutorul librăriei [`dwave-tabu`](https://docs.ocean.dwavesys.com/projects/tabu/en/latest/) ce [implementează o metodă de căutare tabu multistart](https://link.springer.com/article/10.1023/B:ANOR.0000039522.58036.68).\n",
        "\n",
        "\n",
        "**Definiție QUBO**\n",
        "\n",
        "Pentru matricea simetrică de coeficienți $Q \\in \\mathbb{R}^{nxn}$ dorim să găsim vectorul binar $x \\in \\mathbb{B}^{n}$ ce minimizează funcția:\n",
        "$$ f_Q(x)=x^TQx $$\n",
        "\n",
        "O gamă foarte largă de probleme de optimizare clasice pot fi [descrise, transpuse în format QUBO](https://arxiv.org/pdf/1811.11538.pdf). Datorită legăturii strânse cu [modelele Ising](https://en.wikipedia.org/wiki/Ising_model), QUBO este foarte des folosit și în [calculul cuantic adiabatic](https://en.wikipedia.org/wiki/Adiabatic_quantum_computation).\n",
        "\n",
        "Într-un prim exemplu dorim să găsim minimul funcției\n",
        "\n",
        "$$ y = -5x_1 -3x_2 -8x_3 -6x_4 +4x_1x_2 +8x_1x_3 +2x_2x_3 +10x_3x_4 $$\n"
      ]
    },
    {
      "cell_type": "markdown",
      "source": [
        "Folosim comanda `pip install` pentru a instala librăriile externe necesare."
      ],
      "metadata": {
        "id": "Yqzk0w4eGxv-"
      }
    },
    {
      "cell_type": "code",
      "source": [
        "!pip install dwave-tabu\n",
        "!pip install pyqubo"
      ],
      "metadata": {
        "colab": {
          "base_uri": "https://localhost:8080/"
        },
        "id": "NIRbaMklrvBh",
        "outputId": "05b63a48-f851-4dee-b82a-ea67bd4bf9b6"
      },
      "execution_count": 1,
      "outputs": [
        {
          "output_type": "stream",
          "name": "stdout",
          "text": [
            "Looking in indexes: https://pypi.org/simple, https://us-python.pkg.dev/colab-wheels/public/simple/\n",
            "Collecting dwave-tabu\n",
            "  Downloading dwave_tabu-0.5.0-py3-none-any.whl (9.2 kB)\n",
            "Collecting dwave-samplers>=1.0.0 (from dwave-tabu)\n",
            "  Downloading dwave_samplers-1.0.0-cp310-cp310-manylinux_2_17_x86_64.manylinux2014_x86_64.whl (6.0 MB)\n",
            "\u001b[2K     \u001b[90m━━━━━━━━━━━━━━━━━━━━━━━━━━━━━━━━━━━━━━━━\u001b[0m \u001b[32m6.0/6.0 MB\u001b[0m \u001b[31m48.0 MB/s\u001b[0m eta \u001b[36m0:00:00\u001b[0m\n",
            "\u001b[?25hRequirement already satisfied: numpy<2.0.0,>=1.19.0 in /usr/local/lib/python3.10/dist-packages (from dwave-samplers>=1.0.0->dwave-tabu) (1.22.4)\n",
            "Collecting dimod<0.13.0,>=0.12.0 (from dwave-samplers>=1.0.0->dwave-tabu)\n",
            "  Downloading dimod-0.12.5-cp310-cp310-manylinux_2_17_x86_64.manylinux2014_x86_64.whl (15.6 MB)\n",
            "\u001b[2K     \u001b[90m━━━━━━━━━━━━━━━━━━━━━━━━━━━━━━━━━━━━━━━━\u001b[0m \u001b[32m15.6/15.6 MB\u001b[0m \u001b[31m76.4 MB/s\u001b[0m eta \u001b[36m0:00:00\u001b[0m\n",
            "\u001b[?25hRequirement already satisfied: networkx>=2.4.0 in /usr/local/lib/python3.10/dist-packages (from dwave-samplers>=1.0.0->dwave-tabu) (3.1)\n",
            "Installing collected packages: dimod, dwave-samplers, dwave-tabu\n",
            "Successfully installed dimod-0.12.5 dwave-samplers-1.0.0 dwave-tabu-0.5.0\n",
            "Looking in indexes: https://pypi.org/simple, https://us-python.pkg.dev/colab-wheels/public/simple/\n",
            "Collecting pyqubo\n",
            "  Downloading pyqubo-1.4.0-cp310-cp310-manylinux_2_17_x86_64.manylinux2014_x86_64.whl (245 kB)\n",
            "\u001b[2K     \u001b[90m━━━━━━━━━━━━━━━━━━━━━━━━━━━━━━━━━━━━━━━\u001b[0m \u001b[32m245.3/245.3 kB\u001b[0m \u001b[31m4.3 MB/s\u001b[0m eta \u001b[36m0:00:00\u001b[0m\n",
            "\u001b[?25hRequirement already satisfied: numpy>=1.17.3 in /usr/local/lib/python3.10/dist-packages (from pyqubo) (1.22.4)\n",
            "Requirement already satisfied: dimod<0.13,>=0.9.14 in /usr/local/lib/python3.10/dist-packages (from pyqubo) (0.12.5)\n",
            "Collecting dwave-neal>=0.5.7 (from pyqubo)\n",
            "  Downloading dwave_neal-0.6.0-py3-none-any.whl (8.7 kB)\n",
            "Collecting Deprecated>=1.2.12 (from pyqubo)\n",
            "  Downloading Deprecated-1.2.13-py2.py3-none-any.whl (9.6 kB)\n",
            "Requirement already satisfied: six>=1.15.0 in /usr/local/lib/python3.10/dist-packages (from pyqubo) (1.16.0)\n",
            "Requirement already satisfied: wrapt<2,>=1.10 in /usr/local/lib/python3.10/dist-packages (from Deprecated>=1.2.12->pyqubo) (1.14.1)\n",
            "Requirement already satisfied: dwave-samplers<2.0.0,>=1.0.0 in /usr/local/lib/python3.10/dist-packages (from dwave-neal>=0.5.7->pyqubo) (1.0.0)\n",
            "Requirement already satisfied: networkx>=2.4.0 in /usr/local/lib/python3.10/dist-packages (from dwave-samplers<2.0.0,>=1.0.0->dwave-neal>=0.5.7->pyqubo) (3.1)\n",
            "Installing collected packages: Deprecated, dwave-neal, pyqubo\n",
            "Successfully installed Deprecated-1.2.13 dwave-neal-0.6.0 pyqubo-1.4.0\n"
          ]
        }
      ]
    },
    {
      "cell_type": "markdown",
      "source": [
        "Pentru această problemă mică putem descrie manual coeficienții sau îl putem genera din expresia matematică cu ajutorul unei librării precum [`pyqubo`](https://pyqubo.readthedocs.io/en/latest/)."
      ],
      "metadata": {
        "id": "1NU9ZuD9cNEi"
      }
    },
    {
      "cell_type": "code",
      "source": [
        "from tabu import TabuSampler\n",
        "\n",
        "# descriem manual dicționarul cu coeficienți - un proces destul de anost ...\n",
        "res_man = TabuSampler().sample_qubo({('x1', 'x1'): -5, ('x2','x2'): -3, ('x3','x3'): -8, ('x4','x4'): -6, ('x1', 'x2'): 4, ('x1', 'x3'): 8, ('x2', 'x3'): 2, ('x3', 'x4'): 10})\n",
        "# minimul expresiei este -11\n",
        "print(res_man)"
      ],
      "metadata": {
        "colab": {
          "base_uri": "https://localhost:8080/"
        },
        "id": "GpA_0Pxzba3R",
        "outputId": "da3cecbc-e59b-4aa7-adfe-763c1a1ac842"
      },
      "execution_count": 3,
      "outputs": [
        {
          "output_type": "stream",
          "name": "stdout",
          "text": [
            "  x1 x2 x3 x4 energy num_oc. num_re.\n",
            "0  1  0  0  1  -11.0       1       1\n",
            "['BINARY', 1 rows, 1 samples, 4 variables]\n"
          ]
        }
      ]
    },
    {
      "cell_type": "code",
      "source": [
        "# sau generăm din expresie\n",
        "from pyqubo import Binary\n",
        "# definim un simbol binar pt. fiecare variabilă\n",
        "x1, x2, x3, x4 = Binary(\"x1\"), Binary(\"x2\"), Binary(\"x3\"), Binary(\"x4\")\n",
        "# descriem simbolic ecuația \n",
        "y = -5*x1 -3*x2 -8*x3 -6*x4 +4*x1*x2 +8*x1*x3 + 2*x2*x3 + 10*x3*x4\n",
        "# urmează compilarea expresiei simbolice si generarea dicționarului QUBO\n",
        "model = y.compile()\n",
        "qubo, offset = model.to_qubo()\n",
        "print(qubo) "
      ],
      "metadata": {
        "colab": {
          "base_uri": "https://localhost:8080/"
        },
        "id": "8DNVMtmVfQmE",
        "outputId": "6a33d978-6500-469b-8e0f-6386ace6a0aa"
      },
      "execution_count": 4,
      "outputs": [
        {
          "output_type": "stream",
          "name": "stdout",
          "text": [
            "{('x4', 'x4'): -6.0, ('x3', 'x4'): 10.0, ('x3', 'x3'): -8.0, ('x2', 'x1'): 4.0, ('x3', 'x2'): 2.0, ('x3', 'x1'): 8.0, ('x1', 'x1'): -5.0, ('x2', 'x2'): -3.0}\n"
          ]
        }
      ]
    },
    {
      "cell_type": "code",
      "source": [
        "res_aut = TabuSampler().sample_qubo(qubo)\n",
        "# ajungem la acceași rezultat: -11\n",
        "print(res_aut)"
      ],
      "metadata": {
        "colab": {
          "base_uri": "https://localhost:8080/"
        },
        "id": "R21WoxRSgn7Z",
        "outputId": "cfa5e2f6-1c4f-4fe1-f63b-f0f69bc1308b"
      },
      "execution_count": 5,
      "outputs": [
        {
          "output_type": "stream",
          "name": "stdout",
          "text": [
            "  x1 x2 x3 x4 energy num_oc. num_re.\n",
            "0  1  0  0  1  -11.0       1       2\n",
            "['BINARY', 1 rows, 1 samples, 4 variables]\n"
          ]
        }
      ]
    },
    {
      "cell_type": "markdown",
      "source": [
        "În al doilea exemplu, dorim să partiționăm o listă de numere în două subseturi, astfel încât sumele subseturilor să fie cât mai aproape una de cealaltă ([Partition problem](https://en.wikipedia.org/wiki/Partition_problem)).\n",
        "\n",
        "De exemplu, pentru $S = \\{25, 7, 13, 31, 42,17, 21,10\\}$, avem $S_1 = \\{25, 31, 17, 10\\}$ și $S_2 = \\{7, 13, 41, 21\\}$ sau $S_1 = \\{25, 7, 13, 17, 21\\}$ și $S_2 = \\{31, 42, 10\\}$, iar în ambele cazuri $sum(S_1) = sum(S_2) = 83$. \n"
      ],
      "metadata": {
        "id": "9m13bH17g7ZR"
      }
    },
    {
      "cell_type": "code",
      "source": [
        "from pyqubo import Array, Spin\n",
        "numbers = [25,7,13,31,42,17,21,10]\n",
        "s = Array.create('s', shape=len(numbers), vartype='SPIN')\n",
        "# H va fi 0 dacă și numai dacă suma este 0, adică găsim două partiții care se anulează reciproc\n",
        "H = sum(n * s for s, n in zip(s, numbers))**2\n",
        "model = H.compile()\n",
        "qubo, offset = model.to_qubo()\n",
        "print(qubo) "
      ],
      "metadata": {
        "colab": {
          "base_uri": "https://localhost:8080/"
        },
        "id": "9BO_CNulg6fl",
        "outputId": "87cc2e2c-ffa0-4596-f542-f3ec5600c3b2"
      },
      "execution_count": null,
      "outputs": [
        {
          "output_type": "stream",
          "name": "stdout",
          "text": [
            "{('s[7]', 's[3]'): 2480.0, ('s[5]', 's[4]'): 5712.0, ('s[3]', 's[0]'): 6200.0, ('s[2]', 's[0]'): 2600.0, ('s[4]', 's[4]'): -20832.0, ('s[2]', 's[1]'): 728.0, ('s[7]', 's[7]'): -6240.0, ('s[5]', 's[2]'): 1768.0, ('s[6]', 's[5]'): 2856.0, ('s[4]', 's[2]'): 4368.0, ('s[7]', 's[6]'): 1680.0, ('s[0]', 's[0]'): -14100.0, ('s[6]', 's[6]'): -12180.0, ('s[6]', 's[0]'): 4200.0, ('s[4]', 's[0]'): 8400.0, ('s[7]', 's[0]'): 2000.0, ('s[6]', 's[2]'): 2184.0, ('s[6]', 's[1]'): 1176.0, ('s[4]', 's[3]'): 10416.0, ('s[7]', 's[5]'): 1360.0, ('s[7]', 's[2]'): 1040.0, ('s[6]', 's[3]'): 5208.0, ('s[3]', 's[3]'): -16740.0, ('s[7]', 's[1]'): 560.0, ('s[5]', 's[0]'): 3400.0, ('s[1]', 's[1]'): -4452.0, ('s[5]', 's[3]'): 4216.0, ('s[7]', 's[4]'): 3360.0, ('s[2]', 's[2]'): -7956.0, ('s[5]', 's[1]'): 952.0, ('s[1]', 's[0]'): 1400.0, ('s[4]', 's[1]'): 2352.0, ('s[6]', 's[4]'): 7056.0, ('s[3]', 's[2]'): 3224.0, ('s[3]', 's[1]'): 1736.0, ('s[5]', 's[5]'): -10132.0}\n"
          ]
        }
      ]
    },
    {
      "cell_type": "code",
      "source": [
        "res_pp = TabuSampler().sample_qubo(qubo)\n",
        "print(res_pp)"
      ],
      "metadata": {
        "colab": {
          "base_uri": "https://localhost:8080/"
        },
        "id": "1dG00bjBo5pS",
        "outputId": "57c6191e-85f5-4c1b-f1dc-62948fea3adc"
      },
      "execution_count": null,
      "outputs": [
        {
          "output_type": "stream",
          "name": "stdout",
          "text": [
            "  s[0] s[1] s[2] s[3] s[4] s[5] s[6] s[7]   energy num_oc. num_re.\n",
            "0    1    0    0    1    0    1    0    1 -27556.0       1       0\n",
            "['BINARY', 1 rows, 1 samples, 8 variables]\n"
          ]
        }
      ]
    },
    {
      "cell_type": "code",
      "source": [
        "# testarea rezultatului obtinut\n",
        "\n",
        "partition = res_pp.record[0][0]\n",
        "print('Obtained partition: ', partition)\n",
        "\n",
        "S1 = []\n",
        "S2 = []\n",
        "\n",
        "for i in range(len(partition)):\n",
        "  if partition[i] == 0:\n",
        "    S1.append(numbers[i])\n",
        "  else:\n",
        "    S2.append(numbers[i])\n",
        "\n",
        "print('S1 =',S1)\n",
        "print('S2 =',S2)\n",
        "\n",
        "print(sum(S1), sum(S2))\n"
      ],
      "metadata": {
        "colab": {
          "base_uri": "https://localhost:8080/"
        },
        "id": "kZMsZZgXpPEC",
        "outputId": "8fe240ea-6d62-4f52-a255-17852bd8b38f"
      },
      "execution_count": null,
      "outputs": [
        {
          "output_type": "stream",
          "name": "stdout",
          "text": [
            "Obtained partition:  [1 0 0 1 0 1 0 1]\n",
            "S1 = [7, 13, 42, 21]\n",
            "S2 = [25, 31, 17, 10]\n",
            "83 83\n"
          ]
        }
      ]
    },
    {
      "cell_type": "markdown",
      "source": [
        "## Călirea simulată ([Simmulated Annealing](https://en.wikipedia.org/wiki/Simulated_annealing) - SA)\n",
        "\n",
        "\n",
        "Călirea simulată (Simulated Annealing - SA) este un algoritm stohastic de căutare și optimizare inspirat de procesul de călire a metalelor. Procesul de încălzire și răcire controlată a metalelor are ca rezultat o structură cristalină mai stabilă și o reducere a defectelor structurale. SA utilizează această analogie pentru a căuta optimul global al unei funcții.\n",
        "\n",
        "![](https://image.slidesharecdn.com/f-annealing-131118222251-phpapp02/95/annealing-39-638.jpg?cb=1384813935)\n",
        "\n",
        "Fig. 1. Exemplificarea procesului de cristalizare prin călire. [Sursa imaginii](https://www.slideshare.net/RakeshSingh125/f-annealing). \n",
        "\n",
        "Inițial, prin creșterea temperaturii, [căldura dislocă atomii](https://www.sciencelearn.org.nz/resources/750-heat-energy) din pozițiile fixe (minim local) şi permite acestora să [viziteze aleatoriu stări cu energie mai ridicată](https://www.youtube.com/watch?v=qW59Y9lJso8). Apoi, o răcire graduală și lentă acordă timp și implicit mai multe șanse atomilor dislocați să găsească o configurație mai bună, cu o energie internă mai mică decât cea inițială.\n",
        "\n",
        "Inițial, creșterea temperaturii permite atomilor să se deplaseze din minimul local și să exploreze stări cu [energie mai ridicată](https://www.youtube.com/watch?v=qW59Y9lJso8) deoarece[căldura dislocă atomii](https://www.sciencelearn.org.nz/resources/750-heat-energy). În cazul SA, aceasta corespunde fazei de explorare a algoritmului, în care este permisă tranziția către soluții inferioare cu o probabilitate direct proporțională cu \"temperatura\"  (simulată) curentă (linia 13, pseudocod fig. 2). Cu cât temperatura este mai mare, cu atât este mai mare probabilitatea de a accepta o soluție mai slabă calitativ. Astfel, algoritmul poate evita blocajele în minimul local și poate explora în mod aleatoriu spațiul soluțiilor.\n",
        "\n",
        "Pe măsură ce algoritmul avansează, temperatura este redusă treptat într-un program de răcire specific (o funcție monoton descrescătoare, `calculate_tempereature(i)` - linia 7, pseudocod fig. 2). Aceasta înseamnă că probabilitatea de a accepta o soluție inferioară scade treptat, ceea ce duce la o trecere de la explorare accentuată la exploatare accentuată. În faza finală, la temperaturi scăzute, probabilitatea acceptării unei soluții inferioare devine foarte mică, iar algoritmul se concentrează pe exploatarea soluțiilor pentru a găsi optimul global.\n",
        "\n",
        "În recapitulare, într-o primă fază metoda probează spațiul de căutare în mod aleatoriu, traiectoria descrisă fiind haotică ([random walk](https://www.mit.edu/~kardar/teaching/projects/chemotaxis(AndreaSchmidt)/random.htm)), iar explorarea este maximă. Scăderea graduală a temperaturii induce o focusare din ce în ce mai pronunțată spre îmbunătățire, o trecere graduală de la explorare accentuată spre exploatare accentuată. În această fază comportamentul metodei se aseamănă cu [coborârea cu gradient stocastic](https://arxiv.org/abs/1609.04747) ([stocastic gradient descent](https://en.wikipedia.org/wiki/Stochastic_gradient_descent)). În final, la temperaturi scăzute, probabilitatea acceptării unei soluții inferioare devine minusculă (dar nu 0, imposibilă), metoda este axată pe exploatare.\n",
        "\n",
        "Pentru a obține rezultate bune, este important să se echilibreze tranziția de la explorare la exploatare. Dacă programul de răcire este prea agresiv, există riscul de a rămâne blocat într-un minim local. Pe de altă parte, un program de răcire mai lent poate scădea probabilitatea convergenței premature într-un minim local, dar poate necesita mai multe iterații și cerințe de calcul mai ridicate.\n",
        "\n",
        "Cu toate acestea, trebuie menționat că SA nu oferă o garanție de găsire a optimului global într-un număr finit de pași. Cu un program de răcire suficient de lung și lent, algoritmul poate converge către optimul global, dar numărul de pași necesari crește exponențial odată cu dimensiunea problemei.\n",
        "\n",
        "În practică, aplicarea și ajustarea adecvată a algoritmului SA necesită o abordare atentă. Echilibrarea între explorare și exploatare, precum și ajustarea programului de răcire în funcție de specificul problemei, sunt factori importanți pentru obținerea unor rezultate bune.\n",
        "\n",
        "\n",
        "![](https://d3i71xaburhd42.cloudfront.net/9f01f2a70d64f2abbbf8d8a75d340a7f27586a25/8-Figure3-1.png)\n",
        "\n",
        "Fig. 2. Pseudocod pentru metoda călirii simulate. [Sursa imaginii](https://link.springer.com/article/10.1007/s00500-016-2067-4).\n",
        "\n"
      ],
      "metadata": {
        "id": "yE2Cm2qaqDCj"
      }
    },
    {
      "cell_type": "markdown",
      "metadata": {
        "id": "zjEPjhyIClJz"
      },
      "source": [
        "### Exemplu optimizare\n",
        "\n",
        "Considerăm problema [comis-voiajorului](https://ro.wikipedia.org/wiki/Problema_comis-voiajorului) pentru cele mai mari 20 de orașe din SUA, folosind o [implementație a metodei în Python](https://github.com/perrygeo/simanneal)."
      ]
    },
    {
      "cell_type": "code",
      "metadata": {
        "colab": {
          "base_uri": "https://localhost:8080/"
        },
        "id": "n1sdsfjtEe_L",
        "outputId": "c62c7f4e-d384-4d77-e42f-d0793622cdfd"
      },
      "source": [
        "!pip install simanneal"
      ],
      "execution_count": null,
      "outputs": [
        {
          "output_type": "stream",
          "name": "stdout",
          "text": [
            "Looking in indexes: https://pypi.org/simple, https://us-python.pkg.dev/colab-wheels/public/simple/\n",
            "Collecting simanneal\n",
            "  Downloading simanneal-0.5.0-py2.py3-none-any.whl (5.6 kB)\n",
            "Installing collected packages: simanneal\n",
            "Successfully installed simanneal-0.5.0\n"
          ]
        }
      ]
    },
    {
      "cell_type": "code",
      "metadata": {
        "id": "MluzjZRsEhKU"
      },
      "source": [
        "from simanneal import Annealer\n",
        "import math"
      ],
      "execution_count": null,
      "outputs": []
    },
    {
      "cell_type": "code",
      "metadata": {
        "id": "Ey-L-OphFX7O"
      },
      "source": [
        "def geographicDistance(a, b):\n",
        "    \"\"\"Calculates distance between two latitude-longitude coordinates.\"\"\"\n",
        "    R = 6378.1  # equatorial radius of Earth https://imagine.gsfc.nasa.gov/features/cosmic/earth_info.html\n",
        "    lat1, lon1 = math.radians(a[0]), math.radians(a[1])\n",
        "    lat2, lon2 = math.radians(b[0]), math.radians(b[1])\n",
        "    return math.acos(math.sin(lat1) * math.sin(lat2) +\n",
        "                     math.cos(lat1) * math.cos(lat2) * math.cos(lon1 - lon2)) * R"
      ],
      "execution_count": null,
      "outputs": []
    },
    {
      "cell_type": "code",
      "metadata": {
        "id": "6TTKgeXUEs4Z"
      },
      "source": [
        "class TravellingSalesmanProblem(Annealer):\n",
        "    \"\"\"Test annealer with a travelling salesman problem.\"\"\"\n",
        "    def __init__(self, state, distance_matrix):\n",
        "        self.distance_matrix = distance_matrix\n",
        "        super(TravellingSalesmanProblem, self).__init__(state)  \n",
        "\n",
        "    def move(self):\n",
        "        \"\"\"Swaps two cities in the route.\"\"\"\n",
        "        initial_energy = self.energy()\n",
        "\n",
        "        a = random.randint(0, len(self.state) - 1)\n",
        "        b = random.randint(0, len(self.state) - 1)\n",
        "        self.state[a], self.state[b] = self.state[b], self.state[a]\n",
        "\n",
        "        return self.energy() - initial_energy\n",
        "\n",
        "    def energy(self):\n",
        "        \"\"\"Calculates the length of the route.\"\"\"\n",
        "        e = 0\n",
        "        for i in range(len(self.state)):\n",
        "            e += self.distance_matrix[self.state[i-1]][self.state[i]]\n",
        "        return e"
      ],
      "execution_count": null,
      "outputs": []
    },
    {
      "cell_type": "code",
      "metadata": {
        "id": "1xd-jefAIDGX"
      },
      "source": [
        "# latitude and longitude for the twenty largest U.S. cities\n",
        "# https://en.wikipedia.org/wiki/List_of_United_States_cities_by_population\n",
        "\n",
        "cities = {\n",
        "        'New York City': (40.72, 74.00),\n",
        "        'Los Angeles': (34.05, 118.25),\n",
        "        'Chicago': (41.88, 87.63),\n",
        "        'Houston': (29.77, 95.38),\n",
        "        'Phoenix': (33.45, 112.07),\n",
        "        'Philadelphia': (39.95, 75.17),\n",
        "        'San Antonio': (29.53, 98.47),\n",
        "        'Dallas': (32.78, 96.80),\n",
        "        'San Diego': (32.78, 117.15),\n",
        "        'San Jose': (37.30, 121.87),\n",
        "        'Detroit': (42.33, 83.05),\n",
        "        'San Francisco': (37.78, 122.42),\n",
        "        'Jacksonville': (30.32, 81.70),\n",
        "        'Indianapolis': (39.78, 86.15),\n",
        "        'Austin': (30.27, 97.77),\n",
        "        'Columbus': (39.98, 82.98),\n",
        "        'Fort Worth': (32.75, 97.33),\n",
        "        'Charlotte': (35.23, 80.85),\n",
        "        'Memphis': (35.12, 89.97),\n",
        "        'Baltimore': (39.28, 76.62)\n",
        "    }"
      ],
      "execution_count": null,
      "outputs": []
    },
    {
      "cell_type": "code",
      "metadata": {
        "colab": {
          "base_uri": "https://localhost:8080/"
        },
        "id": "6ITFi5WiIdLZ",
        "outputId": "3bea4db7-dbe5-4abd-9972-4fec5e0b6d60"
      },
      "source": [
        "import random\n",
        "# initial state, a randomly-ordered itinerary\n",
        "init_state = list(cities)\n",
        "random.shuffle(init_state)\n",
        "print(init_state)"
      ],
      "execution_count": null,
      "outputs": [
        {
          "output_type": "stream",
          "name": "stdout",
          "text": [
            "['San Jose', 'San Antonio', 'San Diego', 'Memphis', 'San Francisco', 'Philadelphia', 'Phoenix', 'Jacksonville', 'Indianapolis', 'New York City', 'Columbus', 'Fort Worth', 'Austin', 'Los Angeles', 'Charlotte', 'Dallas', 'Detroit', 'Houston', 'Baltimore', 'Chicago']\n"
          ]
        }
      ]
    },
    {
      "cell_type": "code",
      "metadata": {
        "colab": {
          "base_uri": "https://localhost:8080/"
        },
        "id": "oTOhQPg4I1Y9",
        "outputId": "0a42840d-4d2e-47bd-97d7-a14001e02940"
      },
      "source": [
        "from collections import defaultdict\n",
        "# create an adjacency matrix - https://en.wikipedia.org/wiki/Adjacency_matrix\n",
        "distance_matrix = defaultdict(dict)\n",
        "for ka, va in cities.items():\n",
        "  for kb, vb in cities.items():\n",
        "    distance_matrix[ka][kb] = 0.0 if kb == ka else geographicDistance(va, vb)\n",
        "\n",
        "print('The distance from New York to Houston is {0} kms.'.format(distance_matrix['New York City']['Houston']))"
      ],
      "execution_count": null,
      "outputs": [
        {
          "output_type": "stream",
          "name": "stdout",
          "text": [
            "The distance from New York to Houston is 2284.807991009479 kms.\n"
          ]
        }
      ]
    },
    {
      "cell_type": "markdown",
      "metadata": {
        "id": "2J0snbwfKM1k"
      },
      "source": [
        "Confirmare cu ajutorul planificării rutei oferită de Google Maps:\n",
        "\n",
        "https://www.google.com/search?client=safari&rls=en&q=distance+new+york+to+houston&ie=UTF-8&oe=UTF-8\n",
        "\n",
        "![](https://www.google.com/maps/vt/data=6dwNcCGg2G7qCjzYYqmJEvOdwo3PgE9W1cAWPqOISd3KCjFsBMSOiQAICYx0I_jjWmQris4hQePQoQyrx4AlvoeJ_guXdArgnA6Kpte8Na4_RaUTcT_tLLnd4FCx5ITouhQKjNDCLdh3qLx409QSRDMKlxA4eVsp4p7wl__yGnMO1ronpZAjHtKBnmAd,3-zgxN7akVijwp6XwwoZFPZqIq2xWsAQvVlfYY3ZjKSbZlcBxOF74y4qPLf3M0G5_JzyiXpogRqPH290MBSfK418Y3GbASjpkdz5cCQy7FiGqCuKVcZ_vTPr_-IHYnfv0wWQvsLGp0J3AYXrnST-yz_SxrfYVOzvd4mjgNBnwDibdQxoFT6iHnfaq7zLTyAig23Lt-ehVUkeWySw-dCNCv1RGCFnmUqpgoS0Y278AqbMlfpxTCdmQdsEKURB7RfZ8YTFTXslG9tcd6WV-N62Y8t4PJEalDmQUOgaLbrG_aK71_ZYUn_0hW8PYxtH4VFxt4ZMaxtZ_8J__w63usk9rXfT184R6ndQE6_CpwFArJF_uXI0WkZXIDZmKVBXZX5bO_y1GLM?scale=2&h=200&w=618)"
      ]
    },
    {
      "cell_type": "code",
      "metadata": {
        "colab": {
          "base_uri": "https://localhost:8080/"
        },
        "id": "o_UBokbELPPF",
        "outputId": "b233238b-586e-4a23-d5cc-d4d09f5d61c0"
      },
      "source": [
        "tsp = TravellingSalesmanProblem(init_state, distance_matrix)\n",
        "tsp.set_schedule(tsp.auto(minutes = 1))\n",
        "\n",
        "tsp.copy_strategy = 'slice'\n",
        "state, e = tsp.anneal()\n",
        "\n",
        "while state[0] != 'New York City':\n",
        "    state = state[1:] + state[:1]  # rotate NYC to start\n",
        "\n",
        "print()\n",
        "print(\"%i km route:\" % e)\n",
        "print(\" ➞  \".join(state))"
      ],
      "execution_count": null,
      "outputs": [
        {
          "output_type": "stream",
          "name": "stderr",
          "text": [
            " Temperature        Energy    Accept   Improve     Elapsed   Remaining\n",
            " Temperature        Energy    Accept   Improve     Elapsed   Remaining\n"
          ]
        },
        {
          "output_type": "stream",
          "name": "stdout",
          "text": [
            "\n",
            "10946 km route:\n",
            "New York City ➞  Philadelphia ➞  Baltimore ➞  Charlotte ➞  Jacksonville ➞  Memphis ➞  Dallas ➞  Fort Worth ➞  Houston ➞  Austin ➞  San Antonio ➞  Phoenix ➞  San Diego ➞  Los Angeles ➞  San Jose ➞  San Francisco ➞  Chicago ➞  Indianapolis ➞  Columbus ➞  Detroit\n"
          ]
        }
      ]
    },
    {
      "cell_type": "markdown",
      "metadata": {
        "id": "TWLBFpvKbV8j"
      },
      "source": [
        "### Vizualizarea rutei obținute\n"
      ]
    },
    {
      "cell_type": "code",
      "metadata": {
        "colab": {
          "base_uri": "https://localhost:8080/"
        },
        "id": "uYI2xOA0NH4Z",
        "outputId": "c323434a-e78f-4e47-f76c-fff3ac2e56e7"
      },
      "source": [
        "!pip install geopandas"
      ],
      "execution_count": null,
      "outputs": [
        {
          "output_type": "stream",
          "name": "stdout",
          "text": [
            "Looking in indexes: https://pypi.org/simple, https://us-python.pkg.dev/colab-wheels/public/simple/\n",
            "Collecting geopandas\n",
            "  Downloading geopandas-0.13.0-py3-none-any.whl (1.1 MB)\n",
            "\u001b[2K     \u001b[90m━━━━━━━━━━━━━━━━━━━━━━━━━━━━━━━━━━━━━━━━\u001b[0m \u001b[32m1.1/1.1 MB\u001b[0m \u001b[31m15.2 MB/s\u001b[0m eta \u001b[36m0:00:00\u001b[0m\n",
            "\u001b[?25hCollecting fiona>=1.8.19 (from geopandas)\n",
            "  Downloading Fiona-1.9.3-cp310-cp310-manylinux_2_17_x86_64.manylinux2014_x86_64.whl (16.0 MB)\n",
            "\u001b[2K     \u001b[90m━━━━━━━━━━━━━━━━━━━━━━━━━━━━━━━━━━━━━━━━\u001b[0m \u001b[32m16.0/16.0 MB\u001b[0m \u001b[31m56.7 MB/s\u001b[0m eta \u001b[36m0:00:00\u001b[0m\n",
            "\u001b[?25hRequirement already satisfied: packaging in /usr/local/lib/python3.10/dist-packages (from geopandas) (23.1)\n",
            "Requirement already satisfied: pandas>=1.1.0 in /usr/local/lib/python3.10/dist-packages (from geopandas) (1.5.3)\n",
            "Collecting pyproj>=3.0.1 (from geopandas)\n",
            "  Downloading pyproj-3.5.0-cp310-cp310-manylinux_2_17_x86_64.manylinux2014_x86_64.whl (7.7 MB)\n",
            "\u001b[2K     \u001b[90m━━━━━━━━━━━━━━━━━━━━━━━━━━━━━━━━━━━━━━━━\u001b[0m \u001b[32m7.7/7.7 MB\u001b[0m \u001b[31m91.8 MB/s\u001b[0m eta \u001b[36m0:00:00\u001b[0m\n",
            "\u001b[?25hRequirement already satisfied: shapely>=1.7.1 in /usr/local/lib/python3.10/dist-packages (from geopandas) (2.0.1)\n",
            "Requirement already satisfied: attrs>=19.2.0 in /usr/local/lib/python3.10/dist-packages (from fiona>=1.8.19->geopandas) (23.1.0)\n",
            "Requirement already satisfied: certifi in /usr/local/lib/python3.10/dist-packages (from fiona>=1.8.19->geopandas) (2022.12.7)\n",
            "Requirement already satisfied: click~=8.0 in /usr/local/lib/python3.10/dist-packages (from fiona>=1.8.19->geopandas) (8.1.3)\n",
            "Collecting click-plugins>=1.0 (from fiona>=1.8.19->geopandas)\n",
            "  Downloading click_plugins-1.1.1-py2.py3-none-any.whl (7.5 kB)\n",
            "Collecting cligj>=0.5 (from fiona>=1.8.19->geopandas)\n",
            "  Downloading cligj-0.7.2-py3-none-any.whl (7.1 kB)\n",
            "Collecting munch>=2.3.2 (from fiona>=1.8.19->geopandas)\n",
            "  Downloading munch-2.5.0-py2.py3-none-any.whl (10 kB)\n",
            "Requirement already satisfied: python-dateutil>=2.8.1 in /usr/local/lib/python3.10/dist-packages (from pandas>=1.1.0->geopandas) (2.8.2)\n",
            "Requirement already satisfied: pytz>=2020.1 in /usr/local/lib/python3.10/dist-packages (from pandas>=1.1.0->geopandas) (2022.7.1)\n",
            "Requirement already satisfied: numpy>=1.21.0 in /usr/local/lib/python3.10/dist-packages (from pandas>=1.1.0->geopandas) (1.22.4)\n",
            "Requirement already satisfied: six in /usr/local/lib/python3.10/dist-packages (from munch>=2.3.2->fiona>=1.8.19->geopandas) (1.16.0)\n",
            "Installing collected packages: pyproj, munch, cligj, click-plugins, fiona, geopandas\n",
            "Successfully installed click-plugins-1.1.1 cligj-0.7.2 fiona-1.9.3 geopandas-0.13.0 munch-2.5.0 pyproj-3.5.0\n"
          ]
        }
      ]
    },
    {
      "cell_type": "code",
      "source": [
        "!pip install descartes"
      ],
      "metadata": {
        "colab": {
          "base_uri": "https://localhost:8080/"
        },
        "id": "ynKLXzeBZ0w9",
        "outputId": "d1a9bd2d-aa40-419a-8f98-ae144524d567"
      },
      "execution_count": null,
      "outputs": [
        {
          "output_type": "stream",
          "name": "stdout",
          "text": [
            "Looking in indexes: https://pypi.org/simple, https://us-python.pkg.dev/colab-wheels/public/simple/\n",
            "Collecting descartes\n",
            "  Downloading descartes-1.1.0-py3-none-any.whl (5.8 kB)\n",
            "Requirement already satisfied: matplotlib in /usr/local/lib/python3.10/dist-packages (from descartes) (3.7.1)\n",
            "Requirement already satisfied: contourpy>=1.0.1 in /usr/local/lib/python3.10/dist-packages (from matplotlib->descartes) (1.0.7)\n",
            "Requirement already satisfied: cycler>=0.10 in /usr/local/lib/python3.10/dist-packages (from matplotlib->descartes) (0.11.0)\n",
            "Requirement already satisfied: fonttools>=4.22.0 in /usr/local/lib/python3.10/dist-packages (from matplotlib->descartes) (4.39.3)\n",
            "Requirement already satisfied: kiwisolver>=1.0.1 in /usr/local/lib/python3.10/dist-packages (from matplotlib->descartes) (1.4.4)\n",
            "Requirement already satisfied: numpy>=1.20 in /usr/local/lib/python3.10/dist-packages (from matplotlib->descartes) (1.22.4)\n",
            "Requirement already satisfied: packaging>=20.0 in /usr/local/lib/python3.10/dist-packages (from matplotlib->descartes) (23.1)\n",
            "Requirement already satisfied: pillow>=6.2.0 in /usr/local/lib/python3.10/dist-packages (from matplotlib->descartes) (8.4.0)\n",
            "Requirement already satisfied: pyparsing>=2.3.1 in /usr/local/lib/python3.10/dist-packages (from matplotlib->descartes) (3.0.9)\n",
            "Requirement already satisfied: python-dateutil>=2.7 in /usr/local/lib/python3.10/dist-packages (from matplotlib->descartes) (2.8.2)\n",
            "Requirement already satisfied: six>=1.5 in /usr/local/lib/python3.10/dist-packages (from python-dateutil>=2.7->matplotlib->descartes) (1.16.0)\n",
            "Installing collected packages: descartes\n",
            "Successfully installed descartes-1.1.0\n"
          ]
        }
      ]
    },
    {
      "cell_type": "code",
      "metadata": {
        "id": "jm_0Y_MyM7XW"
      },
      "source": [
        "import numpy as np\n",
        "import pandas as pd\n",
        "import matplotlib.pyplot as plt\n",
        "import descartes\n",
        "import geopandas as gpd\n",
        "from shapely.geometry import Point, Polygon"
      ],
      "execution_count": null,
      "outputs": []
    },
    {
      "cell_type": "code",
      "metadata": {
        "colab": {
          "base_uri": "https://localhost:8080/",
          "height": 206
        },
        "id": "87bIouW7POmU",
        "outputId": "1557693b-fc2b-4f9c-bf34-d056415a13cd"
      },
      "source": [
        "df = pd.DataFrame(\n",
        "    {'City': cities.keys(),\n",
        "     'Latitude': [x[0] for x in cities.values()],\n",
        "     'Longitude': [x[1] for x in cities.values()]})\n",
        "\n",
        "df.head()"
      ],
      "execution_count": null,
      "outputs": [
        {
          "output_type": "execute_result",
          "data": {
            "text/plain": [
              "            City  Latitude  Longitude\n",
              "0  New York City     40.72      74.00\n",
              "1    Los Angeles     34.05     118.25\n",
              "2        Chicago     41.88      87.63\n",
              "3        Houston     29.77      95.38\n",
              "4        Phoenix     33.45     112.07"
            ],
            "text/html": [
              "\n",
              "  <div id=\"df-a6d82943-8d37-4f0f-95f9-14ad9a2ca873\">\n",
              "    <div class=\"colab-df-container\">\n",
              "      <div>\n",
              "<style scoped>\n",
              "    .dataframe tbody tr th:only-of-type {\n",
              "        vertical-align: middle;\n",
              "    }\n",
              "\n",
              "    .dataframe tbody tr th {\n",
              "        vertical-align: top;\n",
              "    }\n",
              "\n",
              "    .dataframe thead th {\n",
              "        text-align: right;\n",
              "    }\n",
              "</style>\n",
              "<table border=\"1\" class=\"dataframe\">\n",
              "  <thead>\n",
              "    <tr style=\"text-align: right;\">\n",
              "      <th></th>\n",
              "      <th>City</th>\n",
              "      <th>Latitude</th>\n",
              "      <th>Longitude</th>\n",
              "    </tr>\n",
              "  </thead>\n",
              "  <tbody>\n",
              "    <tr>\n",
              "      <th>0</th>\n",
              "      <td>New York City</td>\n",
              "      <td>40.72</td>\n",
              "      <td>74.00</td>\n",
              "    </tr>\n",
              "    <tr>\n",
              "      <th>1</th>\n",
              "      <td>Los Angeles</td>\n",
              "      <td>34.05</td>\n",
              "      <td>118.25</td>\n",
              "    </tr>\n",
              "    <tr>\n",
              "      <th>2</th>\n",
              "      <td>Chicago</td>\n",
              "      <td>41.88</td>\n",
              "      <td>87.63</td>\n",
              "    </tr>\n",
              "    <tr>\n",
              "      <th>3</th>\n",
              "      <td>Houston</td>\n",
              "      <td>29.77</td>\n",
              "      <td>95.38</td>\n",
              "    </tr>\n",
              "    <tr>\n",
              "      <th>4</th>\n",
              "      <td>Phoenix</td>\n",
              "      <td>33.45</td>\n",
              "      <td>112.07</td>\n",
              "    </tr>\n",
              "  </tbody>\n",
              "</table>\n",
              "</div>\n",
              "      <button class=\"colab-df-convert\" onclick=\"convertToInteractive('df-a6d82943-8d37-4f0f-95f9-14ad9a2ca873')\"\n",
              "              title=\"Convert this dataframe to an interactive table.\"\n",
              "              style=\"display:none;\">\n",
              "        \n",
              "  <svg xmlns=\"http://www.w3.org/2000/svg\" height=\"24px\"viewBox=\"0 0 24 24\"\n",
              "       width=\"24px\">\n",
              "    <path d=\"M0 0h24v24H0V0z\" fill=\"none\"/>\n",
              "    <path d=\"M18.56 5.44l.94 2.06.94-2.06 2.06-.94-2.06-.94-.94-2.06-.94 2.06-2.06.94zm-11 1L8.5 8.5l.94-2.06 2.06-.94-2.06-.94L8.5 2.5l-.94 2.06-2.06.94zm10 10l.94 2.06.94-2.06 2.06-.94-2.06-.94-.94-2.06-.94 2.06-2.06.94z\"/><path d=\"M17.41 7.96l-1.37-1.37c-.4-.4-.92-.59-1.43-.59-.52 0-1.04.2-1.43.59L10.3 9.45l-7.72 7.72c-.78.78-.78 2.05 0 2.83L4 21.41c.39.39.9.59 1.41.59.51 0 1.02-.2 1.41-.59l7.78-7.78 2.81-2.81c.8-.78.8-2.07 0-2.86zM5.41 20L4 18.59l7.72-7.72 1.47 1.35L5.41 20z\"/>\n",
              "  </svg>\n",
              "      </button>\n",
              "      \n",
              "  <style>\n",
              "    .colab-df-container {\n",
              "      display:flex;\n",
              "      flex-wrap:wrap;\n",
              "      gap: 12px;\n",
              "    }\n",
              "\n",
              "    .colab-df-convert {\n",
              "      background-color: #E8F0FE;\n",
              "      border: none;\n",
              "      border-radius: 50%;\n",
              "      cursor: pointer;\n",
              "      display: none;\n",
              "      fill: #1967D2;\n",
              "      height: 32px;\n",
              "      padding: 0 0 0 0;\n",
              "      width: 32px;\n",
              "    }\n",
              "\n",
              "    .colab-df-convert:hover {\n",
              "      background-color: #E2EBFA;\n",
              "      box-shadow: 0px 1px 2px rgba(60, 64, 67, 0.3), 0px 1px 3px 1px rgba(60, 64, 67, 0.15);\n",
              "      fill: #174EA6;\n",
              "    }\n",
              "\n",
              "    [theme=dark] .colab-df-convert {\n",
              "      background-color: #3B4455;\n",
              "      fill: #D2E3FC;\n",
              "    }\n",
              "\n",
              "    [theme=dark] .colab-df-convert:hover {\n",
              "      background-color: #434B5C;\n",
              "      box-shadow: 0px 1px 3px 1px rgba(0, 0, 0, 0.15);\n",
              "      filter: drop-shadow(0px 1px 2px rgba(0, 0, 0, 0.3));\n",
              "      fill: #FFFFFF;\n",
              "    }\n",
              "  </style>\n",
              "\n",
              "      <script>\n",
              "        const buttonEl =\n",
              "          document.querySelector('#df-a6d82943-8d37-4f0f-95f9-14ad9a2ca873 button.colab-df-convert');\n",
              "        buttonEl.style.display =\n",
              "          google.colab.kernel.accessAllowed ? 'block' : 'none';\n",
              "\n",
              "        async function convertToInteractive(key) {\n",
              "          const element = document.querySelector('#df-a6d82943-8d37-4f0f-95f9-14ad9a2ca873');\n",
              "          const dataTable =\n",
              "            await google.colab.kernel.invokeFunction('convertToInteractive',\n",
              "                                                     [key], {});\n",
              "          if (!dataTable) return;\n",
              "\n",
              "          const docLinkHtml = 'Like what you see? Visit the ' +\n",
              "            '<a target=\"_blank\" href=https://colab.research.google.com/notebooks/data_table.ipynb>data table notebook</a>'\n",
              "            + ' to learn more about interactive tables.';\n",
              "          element.innerHTML = '';\n",
              "          dataTable['output_type'] = 'display_data';\n",
              "          await google.colab.output.renderOutput(dataTable, element);\n",
              "          const docLink = document.createElement('div');\n",
              "          docLink.innerHTML = docLinkHtml;\n",
              "          element.appendChild(docLink);\n",
              "        }\n",
              "      </script>\n",
              "    </div>\n",
              "  </div>\n",
              "  "
            ]
          },
          "metadata": {},
          "execution_count": 21
        }
      ]
    },
    {
      "cell_type": "code",
      "metadata": {
        "id": "Uk-QQxKHO0_S"
      },
      "source": [
        "gdf = gpd.GeoDataFrame(\n",
        "    df, geometry=gpd.points_from_xy(-df.Longitude, df.Latitude), crs = 4326)"
      ],
      "execution_count": null,
      "outputs": []
    },
    {
      "cell_type": "code",
      "metadata": {
        "colab": {
          "base_uri": "https://localhost:8080/",
          "height": 691
        },
        "id": "4vaYU78oQG83",
        "outputId": "069d44eb-6cf5-4f26-97a1-338f30dd5d12"
      },
      "source": [
        "world = gpd.read_file(gpd.datasets.get_path('naturalearth_lowres'))\n",
        "\n",
        "ax = world[world.name == 'United States of America'].plot(\n",
        "    color='white', edgecolor='black', figsize=(12, 10))\n",
        "\n",
        "gdf.plot(ax=ax,color='red')\n",
        "\n",
        "for i in range(0, len(state)-1):\n",
        "  plt.plot( [-df[df.City==state[i]].Longitude, -df[df.City==state[i+1]].Longitude], [df[df.City==state[i]].Latitude, df[df.City==state[i+1]].Latitude])\n",
        "\n",
        "plt.show()"
      ],
      "execution_count": null,
      "outputs": [
        {
          "output_type": "stream",
          "name": "stderr",
          "text": [
            "<ipython-input-23-491edd52744f>:1: FutureWarning: The geopandas.dataset module is deprecated and will be removed in GeoPandas 1.0. You can get the original 'naturalearth_lowres' data from https://www.naturalearthdata.com/downloads/110m-cultural-vectors/.\n",
            "  world = gpd.read_file(gpd.datasets.get_path('naturalearth_lowres'))\n"
          ]
        },
        {
          "output_type": "display_data",
          "data": {
            "text/plain": [
              "<Figure size 1200x1000 with 1 Axes>"
            ],
            "image/png": "[encoded data removed]"
          },
          "metadata": {}
        }
      ]
    },
    {
      "cell_type": "markdown",
      "metadata": {
        "id": "VFNwr9oV87u3"
      },
      "source": [
        "# Exerciții\n",
        "\n",
        "1. Scrieți o scurtă caracterizare comparativă (4-5 paragrafe) a metodei căutării tabu pe baza articolului [\"Tabu Search: A Comparative Study\"](https://www.researchgate.net/publication/221787181_Tabu_Search_A_Comparative_Study). Care este diferența esențială față de celelalte metode discutate în articol (consultați Tabelul 3.1)?\n",
        "2. Implementați și obțineți soluția cu [`dwave-tabu`](https://docs.ocean.dwavesys.com/projects/tabu/en/latest/) pentru un exemplu de model QUBO descris în [\"A Tutorial on Formulating and Using QUBO Models\"](https://arxiv.org/pdf/1811.11538.pdf) (diferit de cele prezentate în laborator).\n",
        "3. Conform articolului [\"On the Convergence Time of Simulated Annealing\"](https://core.ac.uk/download/pdf/76359167.pdf) ce se poate afirma despre convergența metodei SA?\n",
        "4. Care [programe de răcire](https://www.researchgate.net/publication/282449315_A_Comparative_Study_of_Simulated_Annealing_with_different_Cooling_Schedules_for_Geometric_Optimization_of_a_Heat_Transfer_Problem_According_to_Constructal_Design) (cooling schedule) sunt cel mai des folosite? La ce tipuri de probleme se pretează programele de răcire mai lente?\n",
        "5. Conform [acestei](https://page.mi.fu-berlin.de/prechelt/Biblio/kangaroo_analogy.html) analogii amuzante, cum este descrisă dinamica călirii simulate? \n",
        "6. Cu ajutorul [`scipy.optimize.dual_annealing`](https://docs.scipy.org/doc/scipy/reference/generated/scipy.optimize.dual_annealing.html) găsiți optimele funcțiilor studiate laboratorul precedent (conform exemplului din documentație - schimbați definiția funcției `func`). \n",
        "```python\n",
        "import numpy as np\n",
        "from scipy.optimize import dual_annealing\n",
        "# 10-D problem, with many local minima (multimodal). \n",
        "# The bellow defined function is called Rastrigin (https://en.wikipedia.org/wiki/Rastrigin_function)\n",
        "func = lambda x: np.sum(x*x - 10*np.cos(2*np.pi*x)) + 10*np.size(x)\n",
        "lw = [-5.12] * 10\n",
        "up = [5.12] * 10\n",
        "res = dual_annealing(func, bounds=list(zip(lw, up)))\n",
        "print('Solution: ', res.x)\n",
        "print('Value: ', res.fun)\n",
        "```\n",
        "a) Cum se compară performanța cu strategiile de îmbunătățire iterativă, în cazul funcțiilor multimodale?\n",
        "\n",
        "  b) Prin ce diferă [`scipy.optimize.dual_annealing`](https://docs.scipy.org/doc/scipy/reference/generated/scipy.optimize.dual_annealing.html) față de algoritmul SA clasic?\n",
        "\n",
        "7. Rezolvați problema comis voiajorului pentru [municipiile de rang 0 și 1 din România](https://ro.wikipedia.org/wiki/Municipiile_României) cu SA și [TS](https://github.com/polatbilek/Tabu-search-on-Travelling-Salesman-Problem).\n",
        "8. *Implementați (soluție proprie) metoda căutării tabu sau cea a călirii simulate și exemplificați funcționalitatea pe o problemă aleasă.* **(opțional, punct în plus)**."
      ]
    }
  ]
}